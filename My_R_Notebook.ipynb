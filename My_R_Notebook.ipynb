{
 "cells": [
  {
   "cell_type": "code",
   "execution_count": 1,
   "id": "f6537d89-af2d-4272-b1fb-80331bf46c8c",
   "metadata": {},
   "outputs": [
    {
     "data": {
      "text/html": [
       "6"
      ],
      "text/latex": [
       "6"
      ],
      "text/markdown": [
       "6"
      ],
      "text/plain": [
       "[1] 6"
      ]
     },
     "metadata": {},
     "output_type": "display_data"
    }
   ],
   "source": [
    "2 * 3 # multiplication"
   ]
  },
  {
   "cell_type": "code",
   "execution_count": 2,
   "id": "147fafa6-e24b-4feb-85bc-efb374728e10",
   "metadata": {},
   "outputs": [
    {
     "data": {
      "text/html": [
       "3"
      ],
      "text/latex": [
       "3"
      ],
      "text/markdown": [
       "3"
      ],
      "text/plain": [
       "[1] 3"
      ]
     },
     "metadata": {},
     "output_type": "display_data"
    }
   ],
   "source": [
    "4-1 # subtraction"
   ]
  },
  {
   "cell_type": "code",
   "execution_count": 4,
   "id": "856d6af2-5afc-44a7-a243-12774791f681",
   "metadata": {},
   "outputs": [
    {
     "data": {
      "text/html": [
       "3"
      ],
      "text/latex": [
       "3"
      ],
      "text/markdown": [
       "3"
      ],
      "text/plain": [
       "[1] 3"
      ]
     },
     "metadata": {},
     "output_type": "display_data"
    }
   ],
   "source": [
    "a<-1 #assigning to the variable called a the value 1\n",
    "a+2"
   ]
  },
  {
   "cell_type": "code",
   "execution_count": 8,
   "id": "75592e5b-241d-464f-9fba-c4c30274204d",
   "metadata": {},
   "outputs": [
    {
     "name": "stdout",
     "output_type": "stream",
     "text": [
      "  Emp_Name Job_Role\n",
      "1      Ema    accis\n",
      "2      Bjr      sce\n",
      "3    Pucio     poli\n"
     ]
    }
   ],
   "source": [
    "df=data.frame(Emp_Name = c(\"Ema\",\"Bjr\",\"Pucio\"), Job_Role=c(\"accis\",\"sce\",\"poli\"))\n",
    "              print(df)"
   ]
  },
  {
   "cell_type": "code",
   "execution_count": null,
   "id": "07e62993-d8d0-4019-a9a5-ee8b4cb99059",
   "metadata": {},
   "outputs": [],
   "source": []
  }
 ],
 "metadata": {
  "kernelspec": {
   "display_name": "R",
   "language": "R",
   "name": "ir"
  },
  "language_info": {
   "codemirror_mode": "r",
   "file_extension": ".r",
   "mimetype": "text/x-r-source",
   "name": "R",
   "pygments_lexer": "r",
   "version": "3.6.1"
  }
 },
 "nbformat": 4,
 "nbformat_minor": 5
}
